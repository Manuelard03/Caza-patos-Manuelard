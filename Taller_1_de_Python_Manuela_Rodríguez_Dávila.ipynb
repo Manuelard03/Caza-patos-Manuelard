{
  "nbformat": 4,
  "nbformat_minor": 0,
  "metadata": {
    "colab": {
      "provenance": [],
      "authorship_tag": "ABX9TyPikNCfMmVG3xfdwrAZ7r/e",
      "include_colab_link": true
    },
    "kernelspec": {
      "name": "python3",
      "display_name": "Python 3"
    },
    "language_info": {
      "name": "python"
    }
  },
  "cells": [
    {
      "cell_type": "markdown",
      "metadata": {
        "id": "view-in-github",
        "colab_type": "text"
      },
      "source": [
        "<a href=\"https://colab.research.google.com/github/Manuelard03/Caza-patos-Manuelard/blob/main/Taller_1_de_Python_Manuela_Rodr%C3%ADguez_D%C3%A1vila.ipynb\" target=\"_parent\"><img src=\"https://colab.research.google.com/assets/colab-badge.svg\" alt=\"Open In Colab\"/></a>"
      ]
    },
    {
      "cell_type": "markdown",
      "source": [
        "# Taller 1 de Python"
      ],
      "metadata": {
        "id": "9oZ9vAVqojiO"
      }
    },
    {
      "cell_type": "markdown",
      "source": [
        "# Operaciones con Strings (str)"
      ],
      "metadata": {
        "id": "nBpwQ3WytDZ7"
      }
    },
    {
      "cell_type": "code",
      "source": [
        "!zip -r mi_proyecto.zip ."
      ],
      "metadata": {
        "colab": {
          "base_uri": "https://localhost:8080/"
        },
        "id": "WI1gKWNdVLqg",
        "outputId": "c0144ee9-837f-4be7-8cf3-de2e838c1f94"
      },
      "execution_count": 31,
      "outputs": [
        {
          "output_type": "stream",
          "name": "stdout",
          "text": [
            "  adding: .config/ (stored 0%)\n",
            "  adding: .config/.last_update_check.json (deflated 24%)\n",
            "  adding: .config/default_configs.db (deflated 98%)\n",
            "  adding: .config/.last_opt_in_prompt.yaml (stored 0%)\n",
            "  adding: .config/logs/ (stored 0%)\n",
            "  adding: .config/logs/2025.02.18/ (stored 0%)\n",
            "  adding: .config/logs/2025.02.18/14.19.45.014979.log (deflated 57%)\n",
            "  adding: .config/logs/2025.02.18/14.19.35.876527.log (deflated 58%)\n",
            "  adding: .config/logs/2025.02.18/14.19.31.209860.log (deflated 87%)\n",
            "  adding: .config/logs/2025.02.18/14.19.21.783246.log (deflated 58%)\n",
            "  adding: .config/logs/2025.02.18/14.19.45.736719.log (deflated 57%)\n",
            "  adding: .config/logs/2025.02.18/14.18.50.396027.log (deflated 93%)\n",
            "  adding: .config/config_sentinel (stored 0%)\n",
            "  adding: .config/configurations/ (stored 0%)\n",
            "  adding: .config/configurations/config_default (deflated 15%)\n",
            "  adding: .config/gce (stored 0%)\n",
            "  adding: .config/active_config (stored 0%)\n",
            "  adding: .config/.last_survey_prompt.yaml (stored 0%)\n",
            "  adding: .config/hidden_gcloud_config_universe_descriptor_data_cache_configs.db (deflated 97%)\n",
            "  adding: Salaries.csv (deflated 68%)\n",
            "  adding: sample_data/ (stored 0%)\n",
            "  adding: sample_data/README.md (deflated 39%)\n",
            "  adding: sample_data/anscombe.json (deflated 83%)\n",
            "  adding: sample_data/mnist_train_small.csv (deflated 88%)\n",
            "  adding: sample_data/california_housing_test.csv (deflated 76%)\n",
            "  adding: sample_data/mnist_test.csv (deflated 88%)\n",
            "  adding: sample_data/california_housing_train.csv (deflated 79%)\n"
          ]
        }
      ]
    },
    {
      "cell_type": "markdown",
      "source": [
        "Ejercicio 1: Dividir el string dado según los espacios, obteniendo como resultado una lista de las palabras"
      ],
      "metadata": {
        "id": "YKEg19MCpY53"
      }
    },
    {
      "cell_type": "code",
      "source": [
        "s = \"The universe doesn't allow perfection\"\n",
        "lista_palabras = s.split()\n",
        "print(lista_palabras)"
      ],
      "metadata": {
        "colab": {
          "base_uri": "https://localhost:8080/"
        },
        "id": "9rt2K0MNopzI",
        "outputId": "51c729c4-1067-42f2-fb07-654548151cb1"
      },
      "execution_count": 1,
      "outputs": [
        {
          "output_type": "stream",
          "name": "stdout",
          "text": [
            "['The', 'universe', \"doesn't\", 'allow', 'perfection']\n"
          ]
        }
      ]
    },
    {
      "cell_type": "markdown",
      "source": [
        "Ejercicio 2: Dado el siguiente texto construya un programa que cuente los caracteres sin contar los espacios:"
      ],
      "metadata": {
        "id": "VGV2NLEzqgGr"
      }
    },
    {
      "cell_type": "code",
      "source": [
        "s = \"El pasado puede doler, pero tal como yo lo veo, puedes huir o aprender de él\"\n",
        "caracteres_sin_espacios = len(s.replace(\" \", \"\"))\n",
        "print(caracteres_sin_espacios)"
      ],
      "metadata": {
        "colab": {
          "base_uri": "https://localhost:8080/"
        },
        "id": "FUvob4QSowa8",
        "outputId": "c85e0ca0-aab2-49a2-9cd8-dffe0dd64c0a"
      },
      "execution_count": 2,
      "outputs": [
        {
          "output_type": "stream",
          "name": "stdout",
          "text": [
            "61\n"
          ]
        }
      ]
    },
    {
      "cell_type": "markdown",
      "source": [
        "Ejercicio 3: Dado el siguiente texto, remplazar la palbra \"apple\" por \"banana\""
      ],
      "metadata": {
        "id": "Slb6sfpnrxkP"
      }
    },
    {
      "cell_type": "code",
      "source": [
        "s = \"If you wish to make an apple pie from scratch, you must first invent the universe\"\n",
        "s_reemplazado = s.replace(\"apple\", \"banana\")\n",
        "print(s_reemplazado)"
      ],
      "metadata": {
        "colab": {
          "base_uri": "https://localhost:8080/"
        },
        "id": "vL16u7dwr1g9",
        "outputId": "f0e33810-cadd-4721-de72-37070114b5c5"
      },
      "execution_count": 3,
      "outputs": [
        {
          "output_type": "stream",
          "name": "stdout",
          "text": [
            "If you wish to make an banana pie from scratch, you must first invent the universe\n"
          ]
        }
      ]
    },
    {
      "cell_type": "markdown",
      "source": [
        "Ejercicio 4: Usar .format() para imprimir el siguiente string:\n",
        "\n",
        "The diameter of Earth is 12742 kilometers"
      ],
      "metadata": {
        "id": "_VgMhrdmsVCd"
      }
    },
    {
      "cell_type": "code",
      "source": [
        "planet = \"Earth\"\n",
        "diameter = 12742\n",
        "\n",
        "message = \"The diameter of {} is {} kilometers\".format(planet, diameter)\n",
        "print(message)"
      ],
      "metadata": {
        "colab": {
          "base_uri": "https://localhost:8080/"
        },
        "id": "pUeoI2-xsaJL",
        "outputId": "d6be34f5-6d08-4987-f858-550efa0f3371"
      },
      "execution_count": 4,
      "outputs": [
        {
          "output_type": "stream",
          "name": "stdout",
          "text": [
            "The diameter of Earth is 12742 kilometers\n"
          ]
        }
      ]
    },
    {
      "cell_type": "markdown",
      "source": [
        "# Operaciones con Listas"
      ],
      "metadata": {
        "id": "HlDub6UZsvr3"
      }
    },
    {
      "cell_type": "markdown",
      "source": [
        "Ejercicio 1: Dada la siguiente lista, obtener los primeros 3 elementos en una lista disferente (no modificar la lista original)"
      ],
      "metadata": {
        "id": "NRhG9tPZtQPz"
      }
    },
    {
      "cell_type": "code",
      "source": [
        "lst = [0, 1, 2, 3, 4, 5, 6, 7, 8, 9, 10]\n",
        "\n",
        "primeros_tres = lst[:3]\n",
        "print(primeros_tres)\n",
        "print(lst)"
      ],
      "metadata": {
        "colab": {
          "base_uri": "https://localhost:8080/"
        },
        "id": "dp4Mry_ktU9y",
        "outputId": "0dd63c4d-556a-41fc-894c-13f5ae2ea70e"
      },
      "execution_count": 5,
      "outputs": [
        {
          "output_type": "stream",
          "name": "stdout",
          "text": [
            "[0, 1, 2]\n",
            "[0, 1, 2, 3, 4, 5, 6, 7, 8, 9, 10]\n"
          ]
        }
      ]
    },
    {
      "cell_type": "markdown",
      "source": [
        "Ejercicio 2: Dada la siguiente lista, obtener los últimos 3 elementos en una lista diferente (no modificar la lista original)"
      ],
      "metadata": {
        "id": "a1O531Vstqdv"
      }
    },
    {
      "cell_type": "code",
      "source": [
        "lst = [0, 1, 2, 3, 4, 5, 6, 7, 8, 9, 10]\n",
        "\n",
        "ultimos_tres = lst[-3:]\n",
        "\n",
        "print(ultimos_tres)\n",
        "print(lst)"
      ],
      "metadata": {
        "colab": {
          "base_uri": "https://localhost:8080/"
        },
        "id": "WaRH_7W1tt3s",
        "outputId": "64002eff-6699-49ff-c7bb-6928dcbdb682"
      },
      "execution_count": 6,
      "outputs": [
        {
          "output_type": "stream",
          "name": "stdout",
          "text": [
            "[8, 9, 10]\n",
            "[0, 1, 2, 3, 4, 5, 6, 7, 8, 9, 10]\n"
          ]
        }
      ]
    },
    {
      "cell_type": "markdown",
      "source": [
        "Ejercicio 3: Dada la siguiente lista, obtener solo los números pares"
      ],
      "metadata": {
        "id": "ehxjqo6vucQ8"
      }
    },
    {
      "cell_type": "code",
      "source": [
        "lst = [0, 1, 2, 3, 4, 5, 6, 7, 8, 9, 10]\n",
        "\n",
        "for x in lst:\n",
        "  if x % 2 == 0:\n",
        "    print(x)"
      ],
      "metadata": {
        "colab": {
          "base_uri": "https://localhost:8080/"
        },
        "id": "ik3N_25Kugt0",
        "outputId": "1e1c4785-6c9c-462c-ade6-ed1453f1f72e"
      },
      "execution_count": 7,
      "outputs": [
        {
          "output_type": "stream",
          "name": "stdout",
          "text": [
            "0\n",
            "2\n",
            "4\n",
            "6\n",
            "8\n",
            "10\n"
          ]
        }
      ]
    },
    {
      "cell_type": "markdown",
      "source": [
        "Ejercicio 4: Dada la siguiente lista, revertir la lista"
      ],
      "metadata": {
        "id": "cV_z_WKnv6jr"
      }
    },
    {
      "cell_type": "code",
      "source": [
        "lst = [0, 1, 2, 3, 4, 5, 6, 7, 8, 9, 10]\n",
        "lst_revertido = lst[::-1]\n",
        "print(lst_revertido)"
      ],
      "metadata": {
        "colab": {
          "base_uri": "https://localhost:8080/"
        },
        "id": "Oh0J1Tzpv9XP",
        "outputId": "ffd1b6a0-b1dc-40e2-8dc6-741c974989f4"
      },
      "execution_count": 8,
      "outputs": [
        {
          "output_type": "stream",
          "name": "stdout",
          "text": [
            "[10, 9, 8, 7, 6, 5, 4, 3, 2, 1, 0]\n"
          ]
        }
      ]
    },
    {
      "cell_type": "markdown",
      "source": [
        "Ejercicio 5: Ordenar la siguiente lista de menor a mayor"
      ],
      "metadata": {
        "id": "UyzU4CIV1USu"
      }
    },
    {
      "cell_type": "code",
      "source": [
        "lst = [4, 1, 6, 12, 3, 2, 1, 7, 1, 0, 14]\n",
        "lst_ordenado = sorted(lst)\n",
        "print(lst_ordenado)"
      ],
      "metadata": {
        "colab": {
          "base_uri": "https://localhost:8080/"
        },
        "id": "LbvVVhMv1dm4",
        "outputId": "8b72a170-2fab-4b24-ef32-e06d3c08ad01"
      },
      "execution_count": 9,
      "outputs": [
        {
          "output_type": "stream",
          "name": "stdout",
          "text": [
            "[0, 1, 1, 1, 2, 3, 4, 6, 7, 12, 14]\n"
          ]
        }
      ]
    },
    {
      "cell_type": "markdown",
      "source": [
        "Ejercicio 6: Dada la siguiente lista, seleccionar e imprimir la palabra \"Hello\""
      ],
      "metadata": {
        "id": "TT3prw9R1ik4"
      }
    },
    {
      "cell_type": "code",
      "source": [
        "lst = [1,2,[3,4],[5,[100,200,['hello']],23,11],1,7]\n",
        "\n",
        "print(lst[3][1][2][0])"
      ],
      "metadata": {
        "colab": {
          "base_uri": "https://localhost:8080/"
        },
        "id": "MWhKM0Tw1zD9",
        "outputId": "4a1530ee-f7ab-4dcc-88ef-b5be62c35088"
      },
      "execution_count": 10,
      "outputs": [
        {
          "output_type": "stream",
          "name": "stdout",
          "text": [
            "hello\n"
          ]
        }
      ]
    },
    {
      "cell_type": "markdown",
      "source": [
        "Ejercicio 7: Ordenar la siguiente lista de diccionarios de mayor a menor y de menor a mayor según el valor de 'age'"
      ],
      "metadata": {
        "id": "fQ3117LZ3iTG"
      }
    },
    {
      "cell_type": "code",
      "source": [
        "lst = [\n",
        "    {\n",
        "        \"name\": \"A\",\n",
        "        \"age\": 12\n",
        "    },\n",
        "        {\n",
        "        \"name\": \"B\",\n",
        "        \"age\": 22\n",
        "    },\n",
        "        {\n",
        "        \"name\": \"C\",\n",
        "        \"age\": 2\n",
        "    },\n",
        "        {\n",
        "        \"name\": \"D\",\n",
        "        \"age\": 4\n",
        "    },\n",
        "        {\n",
        "        \"name\": \"E\",\n",
        "        \"age\": 42\n",
        "    },\n",
        "]\n",
        "\n",
        "lst_ordenado_mayor_a_menor = sorted(lst, key=lambda x: x['age'], reverse=True)\n",
        "lst_ordenado_menor_a_mayor = sorted(lst, key=lambda x: x['age'])\n",
        "print(lst_ordenado_mayor_a_menor)\n",
        "print(lst_ordenado_menor_a_mayor)"
      ],
      "metadata": {
        "colab": {
          "base_uri": "https://localhost:8080/"
        },
        "id": "Y-hNvmVA3lp8",
        "outputId": "eaff17cb-b813-4461-fb4d-b28e6bcaf55d"
      },
      "execution_count": 11,
      "outputs": [
        {
          "output_type": "stream",
          "name": "stdout",
          "text": [
            "[{'name': 'E', 'age': 42}, {'name': 'B', 'age': 22}, {'name': 'A', 'age': 12}, {'name': 'D', 'age': 4}, {'name': 'C', 'age': 2}]\n",
            "[{'name': 'C', 'age': 2}, {'name': 'D', 'age': 4}, {'name': 'A', 'age': 12}, {'name': 'B', 'age': 22}, {'name': 'E', 'age': 42}]\n"
          ]
        }
      ]
    },
    {
      "cell_type": "markdown",
      "source": [
        "# Funciones"
      ],
      "metadata": {
        "id": "cTvubq1d4J4W"
      }
    },
    {
      "cell_type": "markdown",
      "source": [
        "Ejercicio 1: Crear una función que reciba de entrada un correo electrónico en formato string, y retorne el dominio (lo que va desúes de @)\n",
        "\n",
        "Entrada: user@domain.com\n",
        "Salida esperada: domain.com\n",
        "Usar la expresión lambda para filtrar las palabras que no inicien en s de la siguiente lista"
      ],
      "metadata": {
        "id": "4dZLu0Hf4OA2"
      }
    },
    {
      "cell_type": "code",
      "source": [
        "seq = ['soup','dog','salad','cat','great']\n",
        "\n",
        "get_domain = lambda x: x.split('@')[1]\n",
        "email = \"user@domain.com\"\n",
        "print(get_domain(email))\n",
        "\n",
        "filter_seq = list(filter(lambda word: word[0].lower() == 's', seq))\n",
        "print(filter_seq)"
      ],
      "metadata": {
        "colab": {
          "base_uri": "https://localhost:8080/"
        },
        "id": "qupvZG494Zgf",
        "outputId": "d048b929-09de-433a-ca1f-e85841607ba6"
      },
      "execution_count": 12,
      "outputs": [
        {
          "output_type": "stream",
          "name": "stdout",
          "text": [
            "domain.com\n",
            "['soup', 'salad']\n"
          ]
        }
      ]
    },
    {
      "cell_type": "markdown",
      "source": [
        "Ejercicio 2: Crear una función que reciba 2 parámetros, el primero un frase, y el segundo una palabra (ambos son de tipo string), esta función recisará si la palabra (segundo parámetro) se encuentra en la frase (primer parámetro), solo retornará True o False según el caso."
      ],
      "metadata": {
        "id": "YDIW09wZ6Ii5"
      }
    },
    {
      "cell_type": "code",
      "source": [
        "def contiene_palabra(frase, palabra):\n",
        "    palabras = frase.split()\n",
        "    for p in palabras:\n",
        "        if p.lower() == palabra.lower():\n",
        "            return True\n",
        "    return False\n",
        "\n",
        "frase = \"Hola Manu , ¿que tal?\"\n",
        "palabra = \"Manu\"\n",
        "\n",
        "print(contiene_palabra(frase, palabra))\n",
        "palabra = \"chocolate\"\n",
        "print(contiene_palabra(frase, palabra))"
      ],
      "metadata": {
        "colab": {
          "base_uri": "https://localhost:8080/"
        },
        "id": "Y_wNNhg66MmQ",
        "outputId": "f01a72a7-e221-4256-adf9-83714ef9d2bb"
      },
      "execution_count": 13,
      "outputs": [
        {
          "output_type": "stream",
          "name": "stdout",
          "text": [
            "True\n",
            "False\n"
          ]
        }
      ]
    },
    {
      "cell_type": "markdown",
      "source": [
        "Ejercicio 3: Cree una función básica que devuelva True si la palabra 'dog' está contenida en el string dado."
      ],
      "metadata": {
        "id": "jawP8tltY2NJ"
      }
    },
    {
      "cell_type": "code",
      "source": [
        "s = \"Is there a dog here?\"\n",
        "\n",
        "def contiene_dog(s):\n",
        "    return 'dog' in s.lower()\n",
        "\n",
        "print(contiene_dog(s))\n",
        "\n",
        "s2 = \"Is there a cat here?\"\n",
        "print(contiene_dog(s2))"
      ],
      "metadata": {
        "colab": {
          "base_uri": "https://localhost:8080/"
        },
        "id": "0NWQlmLiivHM",
        "outputId": "2beba149-798e-486c-a841-21ad93f89562"
      },
      "execution_count": 14,
      "outputs": [
        {
          "output_type": "stream",
          "name": "stdout",
          "text": [
            "True\n",
            "False\n"
          ]
        }
      ]
    },
    {
      "cell_type": "markdown",
      "source": [
        "Ejercicio 4: Cree una función que cuente el número de veces que aparece la palabra \"dog\" en el string dado"
      ],
      "metadata": {
        "id": "2QufQJIqkT6A"
      }
    },
    {
      "cell_type": "code",
      "source": [
        "s = \"This dog runs faster than the other dog dude!\"\n",
        "\n",
        "def cuenta_dog(s):\n",
        "    palabras = s.split()\n",
        "    contador = 0\n",
        "    for p in palabras:\n",
        "        if p.lower() == 'dog':\n",
        "            contador += 1\n",
        "    return contador\n",
        "\n",
        "print(cuenta_dog(s))"
      ],
      "metadata": {
        "colab": {
          "base_uri": "https://localhost:8080/"
        },
        "id": "Xvj3AkJbkYFg",
        "outputId": "23f5cdd0-7962-40ab-ff8e-b2871aa8ec4a"
      },
      "execution_count": 15,
      "outputs": [
        {
          "output_type": "stream",
          "name": "stdout",
          "text": [
            "2\n"
          ]
        }
      ]
    },
    {
      "cell_type": "markdown",
      "source": [
        "# Numpy Básico"
      ],
      "metadata": {
        "id": "ZQUiexx1lgaT"
      }
    },
    {
      "cell_type": "markdown",
      "source": [
        "Ejercicio 1: Importa numpy como np"
      ],
      "metadata": {
        "id": "tiNe4mehllNT"
      }
    },
    {
      "cell_type": "code",
      "source": [
        "import numpy as np"
      ],
      "metadata": {
        "id": "xjWYQ8khm7GI"
      },
      "execution_count": null,
      "outputs": []
    },
    {
      "cell_type": "markdown",
      "source": [
        "Ejericio 2: Crea un arreglo de 10 ceros"
      ],
      "metadata": {
        "id": "5www-wRPnXWp"
      }
    },
    {
      "cell_type": "code",
      "source": [
        "import numpy as np\n",
        "\n",
        "arr = np.zeros(10)\n",
        "print(arr)"
      ],
      "metadata": {
        "colab": {
          "base_uri": "https://localhost:8080/"
        },
        "id": "OSrvZxCgncAO",
        "outputId": "4c8a1f7c-3bae-4173-a39e-bd3b7a9a4279"
      },
      "execution_count": 16,
      "outputs": [
        {
          "output_type": "stream",
          "name": "stdout",
          "text": [
            "[0. 0. 0. 0. 0. 0. 0. 0. 0. 0.]\n"
          ]
        }
      ]
    },
    {
      "cell_type": "markdown",
      "source": [
        "Ejercicio 3: Crea un arreglo de 10 unos"
      ],
      "metadata": {
        "id": "VyoofuQ7nFHZ"
      }
    },
    {
      "cell_type": "code",
      "source": [
        "import numpy as np\n",
        "\n",
        "arr = np.ones(10)\n",
        "print(arr)"
      ],
      "metadata": {
        "colab": {
          "base_uri": "https://localhost:8080/"
        },
        "id": "ixSBhBOFnIUZ",
        "outputId": "5d96e94b-5765-4d3e-cd3c-40f8e625e916"
      },
      "execution_count": 17,
      "outputs": [
        {
          "output_type": "stream",
          "name": "stdout",
          "text": [
            "[1. 1. 1. 1. 1. 1. 1. 1. 1. 1.]\n"
          ]
        }
      ]
    },
    {
      "cell_type": "markdown",
      "source": [
        "Ejercicio 4: Crea un arreglo de 10 cincos"
      ],
      "metadata": {
        "id": "2EInOIR7noOi"
      }
    },
    {
      "cell_type": "code",
      "source": [
        "import numpy as np\n",
        "\n",
        "arr = np.full(10, 5)\n",
        "print(arr)\n",
        "\n",
        "arr2 = np.ones(10) * 5\n",
        "print(arr2)"
      ],
      "metadata": {
        "colab": {
          "base_uri": "https://localhost:8080/"
        },
        "id": "Y9gLaO1BnrJp",
        "outputId": "f161e07f-5c3b-4314-e305-95d4fbbb78a9"
      },
      "execution_count": 18,
      "outputs": [
        {
          "output_type": "stream",
          "name": "stdout",
          "text": [
            "[5 5 5 5 5 5 5 5 5 5]\n",
            "[5. 5. 5. 5. 5. 5. 5. 5. 5. 5.]\n"
          ]
        }
      ]
    },
    {
      "cell_type": "markdown",
      "source": [
        "Ejercicio 5: Crea un areglo de enteros (int) de 10 a 50"
      ],
      "metadata": {
        "id": "XKj0WNQBoMK5"
      }
    },
    {
      "cell_type": "code",
      "source": [
        "import numpy as np\n",
        "\n",
        "arr = np.arange(10,51)\n",
        "\n",
        "print(arr)"
      ],
      "metadata": {
        "colab": {
          "base_uri": "https://localhost:8080/"
        },
        "id": "1K2eGZFHoOCZ",
        "outputId": "cf530cc6-5635-463f-9c55-da155270f419"
      },
      "execution_count": 19,
      "outputs": [
        {
          "output_type": "stream",
          "name": "stdout",
          "text": [
            "[10 11 12 13 14 15 16 17 18 19 20 21 22 23 24 25 26 27 28 29 30 31 32 33\n",
            " 34 35 36 37 38 39 40 41 42 43 44 45 46 47 48 49 50]\n"
          ]
        }
      ]
    },
    {
      "cell_type": "markdown",
      "source": [
        "Ejercicio 6: Crea una matrix de 3x3 con los valores de 0 a 8 -> Revisar método reshape"
      ],
      "metadata": {
        "id": "ljPrMuldosOB"
      }
    },
    {
      "cell_type": "code",
      "source": [
        "import numpy as np\n",
        "\n",
        "matriz = np.arange(9).reshape(3, 3)\n",
        "\n",
        "print(matriz)"
      ],
      "metadata": {
        "colab": {
          "base_uri": "https://localhost:8080/"
        },
        "id": "9G3yjDmcoyl6",
        "outputId": "7caa632e-3199-4aec-efe0-5c95704111a2"
      },
      "execution_count": 20,
      "outputs": [
        {
          "output_type": "stream",
          "name": "stdout",
          "text": [
            "[[0 1 2]\n",
            " [3 4 5]\n",
            " [6 7 8]]\n"
          ]
        }
      ]
    },
    {
      "cell_type": "markdown",
      "source": [
        "Ejercicio 7: Crea un arreglo de tamaño 20 lleno de valores aleatorios entre 10 y 100"
      ],
      "metadata": {
        "id": "BLO9niOe7cGz"
      }
    },
    {
      "cell_type": "code",
      "source": [
        "import numpy as np\n",
        "\n",
        "arr = np.random.randint(10, 101, size=20)\n",
        "print(arr)"
      ],
      "metadata": {
        "colab": {
          "base_uri": "https://localhost:8080/"
        },
        "id": "tEHo-72MwEnO",
        "outputId": "ff404a89-b564-4b6a-e136-41217c6d7c3a"
      },
      "execution_count": 21,
      "outputs": [
        {
          "output_type": "stream",
          "name": "stdout",
          "text": [
            "[28 63 94 66 93 78 83 90 82 16 47 24 83 43 18 43 51 43 58 52]\n"
          ]
        }
      ]
    },
    {
      "cell_type": "markdown",
      "source": [
        "# Pandas Básico"
      ],
      "metadata": {
        "id": "kgYkH9pXxATf"
      }
    },
    {
      "cell_type": "markdown",
      "source": [
        "Ejercicio 1: Importa pandas como pd"
      ],
      "metadata": {
        "id": "juibIe1-xKT9"
      }
    },
    {
      "cell_type": "code",
      "source": [
        "import pandas as pd\n",
        "pd.__version__"
      ],
      "metadata": {
        "id": "MSpT_4W3xG2k",
        "colab": {
          "base_uri": "https://localhost:8080/",
          "height": 35
        },
        "outputId": "a2cadf86-ffbd-483c-e46d-9b62a5c7ebc8"
      },
      "execution_count": 22,
      "outputs": [
        {
          "output_type": "execute_result",
          "data": {
            "text/plain": [
              "'2.2.2'"
            ],
            "application/vnd.google.colaboratory.intrinsic+json": {
              "type": "string"
            }
          },
          "metadata": {},
          "execution_count": 22
        }
      ]
    },
    {
      "cell_type": "markdown",
      "source": [
        "Ejercicio 2: Leer Salaries.csv como un dataframe y llamarlo sal"
      ],
      "metadata": {
        "id": "NJUY89wuxYtE"
      }
    },
    {
      "cell_type": "code",
      "source": [
        "sal = pd.read_csv('Salaries.csv')"
      ],
      "metadata": {
        "id": "VlBfz4lhxxUI"
      },
      "execution_count": 23,
      "outputs": []
    },
    {
      "cell_type": "markdown",
      "source": [
        "Ejercicio 3: Revisar el head del dataframe (usar el métdodo head())"
      ],
      "metadata": {
        "id": "ONoVsr79y2Fd"
      }
    },
    {
      "cell_type": "code",
      "source": [
        "sal.head()"
      ],
      "metadata": {
        "colab": {
          "base_uri": "https://localhost:8080/",
          "height": 487
        },
        "id": "7yRWwGsTy6y5",
        "outputId": "34ef7c91-8d61-4ad4-9a3b-e0fd17d45a07"
      },
      "execution_count": 24,
      "outputs": [
        {
          "output_type": "execute_result",
          "data": {
            "text/plain": [
              "   Id       EmployeeName                                        JobTitle  \\\n",
              "0   1     NATHANIEL FORD  GENERAL MANAGER-METROPOLITAN TRANSIT AUTHORITY   \n",
              "1   2       GARY JIMENEZ                 CAPTAIN III (POLICE DEPARTMENT)   \n",
              "2   3     ALBERT PARDINI                 CAPTAIN III (POLICE DEPARTMENT)   \n",
              "3   4  CHRISTOPHER CHONG            WIRE ROPE CABLE MAINTENANCE MECHANIC   \n",
              "4   5    PATRICK GARDNER    DEPUTY CHIEF OF DEPARTMENT,(FIRE DEPARTMENT)   \n",
              "\n",
              "     BasePay  OvertimePay   OtherPay  Benefits   TotalPay  TotalPayBenefits  \\\n",
              "0  167411.18         0.00  400184.25       NaN  567595.43         567595.43   \n",
              "1  155966.02    245131.88  137811.38       NaN  538909.28         538909.28   \n",
              "2  212739.13    106088.18   16452.60       NaN  335279.91         335279.91   \n",
              "3   77916.00     56120.71  198306.90       NaN  332343.61         332343.61   \n",
              "4  134401.60      9737.00  182234.59       NaN  326373.19         326373.19   \n",
              "\n",
              "   Year  Notes         Agency  Status  \n",
              "0  2011    NaN  San Francisco     NaN  \n",
              "1  2011    NaN  San Francisco     NaN  \n",
              "2  2011    NaN  San Francisco     NaN  \n",
              "3  2011    NaN  San Francisco     NaN  \n",
              "4  2011    NaN  San Francisco     NaN  "
            ],
            "text/html": [
              "\n",
              "  <div id=\"df-24bc931c-168b-4e1a-b454-c308d7fd82f3\" class=\"colab-df-container\">\n",
              "    <div>\n",
              "<style scoped>\n",
              "    .dataframe tbody tr th:only-of-type {\n",
              "        vertical-align: middle;\n",
              "    }\n",
              "\n",
              "    .dataframe tbody tr th {\n",
              "        vertical-align: top;\n",
              "    }\n",
              "\n",
              "    .dataframe thead th {\n",
              "        text-align: right;\n",
              "    }\n",
              "</style>\n",
              "<table border=\"1\" class=\"dataframe\">\n",
              "  <thead>\n",
              "    <tr style=\"text-align: right;\">\n",
              "      <th></th>\n",
              "      <th>Id</th>\n",
              "      <th>EmployeeName</th>\n",
              "      <th>JobTitle</th>\n",
              "      <th>BasePay</th>\n",
              "      <th>OvertimePay</th>\n",
              "      <th>OtherPay</th>\n",
              "      <th>Benefits</th>\n",
              "      <th>TotalPay</th>\n",
              "      <th>TotalPayBenefits</th>\n",
              "      <th>Year</th>\n",
              "      <th>Notes</th>\n",
              "      <th>Agency</th>\n",
              "      <th>Status</th>\n",
              "    </tr>\n",
              "  </thead>\n",
              "  <tbody>\n",
              "    <tr>\n",
              "      <th>0</th>\n",
              "      <td>1</td>\n",
              "      <td>NATHANIEL FORD</td>\n",
              "      <td>GENERAL MANAGER-METROPOLITAN TRANSIT AUTHORITY</td>\n",
              "      <td>167411.18</td>\n",
              "      <td>0.00</td>\n",
              "      <td>400184.25</td>\n",
              "      <td>NaN</td>\n",
              "      <td>567595.43</td>\n",
              "      <td>567595.43</td>\n",
              "      <td>2011</td>\n",
              "      <td>NaN</td>\n",
              "      <td>San Francisco</td>\n",
              "      <td>NaN</td>\n",
              "    </tr>\n",
              "    <tr>\n",
              "      <th>1</th>\n",
              "      <td>2</td>\n",
              "      <td>GARY JIMENEZ</td>\n",
              "      <td>CAPTAIN III (POLICE DEPARTMENT)</td>\n",
              "      <td>155966.02</td>\n",
              "      <td>245131.88</td>\n",
              "      <td>137811.38</td>\n",
              "      <td>NaN</td>\n",
              "      <td>538909.28</td>\n",
              "      <td>538909.28</td>\n",
              "      <td>2011</td>\n",
              "      <td>NaN</td>\n",
              "      <td>San Francisco</td>\n",
              "      <td>NaN</td>\n",
              "    </tr>\n",
              "    <tr>\n",
              "      <th>2</th>\n",
              "      <td>3</td>\n",
              "      <td>ALBERT PARDINI</td>\n",
              "      <td>CAPTAIN III (POLICE DEPARTMENT)</td>\n",
              "      <td>212739.13</td>\n",
              "      <td>106088.18</td>\n",
              "      <td>16452.60</td>\n",
              "      <td>NaN</td>\n",
              "      <td>335279.91</td>\n",
              "      <td>335279.91</td>\n",
              "      <td>2011</td>\n",
              "      <td>NaN</td>\n",
              "      <td>San Francisco</td>\n",
              "      <td>NaN</td>\n",
              "    </tr>\n",
              "    <tr>\n",
              "      <th>3</th>\n",
              "      <td>4</td>\n",
              "      <td>CHRISTOPHER CHONG</td>\n",
              "      <td>WIRE ROPE CABLE MAINTENANCE MECHANIC</td>\n",
              "      <td>77916.00</td>\n",
              "      <td>56120.71</td>\n",
              "      <td>198306.90</td>\n",
              "      <td>NaN</td>\n",
              "      <td>332343.61</td>\n",
              "      <td>332343.61</td>\n",
              "      <td>2011</td>\n",
              "      <td>NaN</td>\n",
              "      <td>San Francisco</td>\n",
              "      <td>NaN</td>\n",
              "    </tr>\n",
              "    <tr>\n",
              "      <th>4</th>\n",
              "      <td>5</td>\n",
              "      <td>PATRICK GARDNER</td>\n",
              "      <td>DEPUTY CHIEF OF DEPARTMENT,(FIRE DEPARTMENT)</td>\n",
              "      <td>134401.60</td>\n",
              "      <td>9737.00</td>\n",
              "      <td>182234.59</td>\n",
              "      <td>NaN</td>\n",
              "      <td>326373.19</td>\n",
              "      <td>326373.19</td>\n",
              "      <td>2011</td>\n",
              "      <td>NaN</td>\n",
              "      <td>San Francisco</td>\n",
              "      <td>NaN</td>\n",
              "    </tr>\n",
              "  </tbody>\n",
              "</table>\n",
              "</div>\n",
              "    <div class=\"colab-df-buttons\">\n",
              "\n",
              "  <div class=\"colab-df-container\">\n",
              "    <button class=\"colab-df-convert\" onclick=\"convertToInteractive('df-24bc931c-168b-4e1a-b454-c308d7fd82f3')\"\n",
              "            title=\"Convert this dataframe to an interactive table.\"\n",
              "            style=\"display:none;\">\n",
              "\n",
              "  <svg xmlns=\"http://www.w3.org/2000/svg\" height=\"24px\" viewBox=\"0 -960 960 960\">\n",
              "    <path d=\"M120-120v-720h720v720H120Zm60-500h600v-160H180v160Zm220 220h160v-160H400v160Zm0 220h160v-160H400v160ZM180-400h160v-160H180v160Zm440 0h160v-160H620v160ZM180-180h160v-160H180v160Zm440 0h160v-160H620v160Z\"/>\n",
              "  </svg>\n",
              "    </button>\n",
              "\n",
              "  <style>\n",
              "    .colab-df-container {\n",
              "      display:flex;\n",
              "      gap: 12px;\n",
              "    }\n",
              "\n",
              "    .colab-df-convert {\n",
              "      background-color: #E8F0FE;\n",
              "      border: none;\n",
              "      border-radius: 50%;\n",
              "      cursor: pointer;\n",
              "      display: none;\n",
              "      fill: #1967D2;\n",
              "      height: 32px;\n",
              "      padding: 0 0 0 0;\n",
              "      width: 32px;\n",
              "    }\n",
              "\n",
              "    .colab-df-convert:hover {\n",
              "      background-color: #E2EBFA;\n",
              "      box-shadow: 0px 1px 2px rgba(60, 64, 67, 0.3), 0px 1px 3px 1px rgba(60, 64, 67, 0.15);\n",
              "      fill: #174EA6;\n",
              "    }\n",
              "\n",
              "    .colab-df-buttons div {\n",
              "      margin-bottom: 4px;\n",
              "    }\n",
              "\n",
              "    [theme=dark] .colab-df-convert {\n",
              "      background-color: #3B4455;\n",
              "      fill: #D2E3FC;\n",
              "    }\n",
              "\n",
              "    [theme=dark] .colab-df-convert:hover {\n",
              "      background-color: #434B5C;\n",
              "      box-shadow: 0px 1px 3px 1px rgba(0, 0, 0, 0.15);\n",
              "      filter: drop-shadow(0px 1px 2px rgba(0, 0, 0, 0.3));\n",
              "      fill: #FFFFFF;\n",
              "    }\n",
              "  </style>\n",
              "\n",
              "    <script>\n",
              "      const buttonEl =\n",
              "        document.querySelector('#df-24bc931c-168b-4e1a-b454-c308d7fd82f3 button.colab-df-convert');\n",
              "      buttonEl.style.display =\n",
              "        google.colab.kernel.accessAllowed ? 'block' : 'none';\n",
              "\n",
              "      async function convertToInteractive(key) {\n",
              "        const element = document.querySelector('#df-24bc931c-168b-4e1a-b454-c308d7fd82f3');\n",
              "        const dataTable =\n",
              "          await google.colab.kernel.invokeFunction('convertToInteractive',\n",
              "                                                    [key], {});\n",
              "        if (!dataTable) return;\n",
              "\n",
              "        const docLinkHtml = 'Like what you see? Visit the ' +\n",
              "          '<a target=\"_blank\" href=https://colab.research.google.com/notebooks/data_table.ipynb>data table notebook</a>'\n",
              "          + ' to learn more about interactive tables.';\n",
              "        element.innerHTML = '';\n",
              "        dataTable['output_type'] = 'display_data';\n",
              "        await google.colab.output.renderOutput(dataTable, element);\n",
              "        const docLink = document.createElement('div');\n",
              "        docLink.innerHTML = docLinkHtml;\n",
              "        element.appendChild(docLink);\n",
              "      }\n",
              "    </script>\n",
              "  </div>\n",
              "\n",
              "\n",
              "<div id=\"df-1d2d72e2-2c8e-4420-a8fd-b60453d49cf0\">\n",
              "  <button class=\"colab-df-quickchart\" onclick=\"quickchart('df-1d2d72e2-2c8e-4420-a8fd-b60453d49cf0')\"\n",
              "            title=\"Suggest charts\"\n",
              "            style=\"display:none;\">\n",
              "\n",
              "<svg xmlns=\"http://www.w3.org/2000/svg\" height=\"24px\"viewBox=\"0 0 24 24\"\n",
              "     width=\"24px\">\n",
              "    <g>\n",
              "        <path d=\"M19 3H5c-1.1 0-2 .9-2 2v14c0 1.1.9 2 2 2h14c1.1 0 2-.9 2-2V5c0-1.1-.9-2-2-2zM9 17H7v-7h2v7zm4 0h-2V7h2v10zm4 0h-2v-4h2v4z\"/>\n",
              "    </g>\n",
              "</svg>\n",
              "  </button>\n",
              "\n",
              "<style>\n",
              "  .colab-df-quickchart {\n",
              "      --bg-color: #E8F0FE;\n",
              "      --fill-color: #1967D2;\n",
              "      --hover-bg-color: #E2EBFA;\n",
              "      --hover-fill-color: #174EA6;\n",
              "      --disabled-fill-color: #AAA;\n",
              "      --disabled-bg-color: #DDD;\n",
              "  }\n",
              "\n",
              "  [theme=dark] .colab-df-quickchart {\n",
              "      --bg-color: #3B4455;\n",
              "      --fill-color: #D2E3FC;\n",
              "      --hover-bg-color: #434B5C;\n",
              "      --hover-fill-color: #FFFFFF;\n",
              "      --disabled-bg-color: #3B4455;\n",
              "      --disabled-fill-color: #666;\n",
              "  }\n",
              "\n",
              "  .colab-df-quickchart {\n",
              "    background-color: var(--bg-color);\n",
              "    border: none;\n",
              "    border-radius: 50%;\n",
              "    cursor: pointer;\n",
              "    display: none;\n",
              "    fill: var(--fill-color);\n",
              "    height: 32px;\n",
              "    padding: 0;\n",
              "    width: 32px;\n",
              "  }\n",
              "\n",
              "  .colab-df-quickchart:hover {\n",
              "    background-color: var(--hover-bg-color);\n",
              "    box-shadow: 0 1px 2px rgba(60, 64, 67, 0.3), 0 1px 3px 1px rgba(60, 64, 67, 0.15);\n",
              "    fill: var(--button-hover-fill-color);\n",
              "  }\n",
              "\n",
              "  .colab-df-quickchart-complete:disabled,\n",
              "  .colab-df-quickchart-complete:disabled:hover {\n",
              "    background-color: var(--disabled-bg-color);\n",
              "    fill: var(--disabled-fill-color);\n",
              "    box-shadow: none;\n",
              "  }\n",
              "\n",
              "  .colab-df-spinner {\n",
              "    border: 2px solid var(--fill-color);\n",
              "    border-color: transparent;\n",
              "    border-bottom-color: var(--fill-color);\n",
              "    animation:\n",
              "      spin 1s steps(1) infinite;\n",
              "  }\n",
              "\n",
              "  @keyframes spin {\n",
              "    0% {\n",
              "      border-color: transparent;\n",
              "      border-bottom-color: var(--fill-color);\n",
              "      border-left-color: var(--fill-color);\n",
              "    }\n",
              "    20% {\n",
              "      border-color: transparent;\n",
              "      border-left-color: var(--fill-color);\n",
              "      border-top-color: var(--fill-color);\n",
              "    }\n",
              "    30% {\n",
              "      border-color: transparent;\n",
              "      border-left-color: var(--fill-color);\n",
              "      border-top-color: var(--fill-color);\n",
              "      border-right-color: var(--fill-color);\n",
              "    }\n",
              "    40% {\n",
              "      border-color: transparent;\n",
              "      border-right-color: var(--fill-color);\n",
              "      border-top-color: var(--fill-color);\n",
              "    }\n",
              "    60% {\n",
              "      border-color: transparent;\n",
              "      border-right-color: var(--fill-color);\n",
              "    }\n",
              "    80% {\n",
              "      border-color: transparent;\n",
              "      border-right-color: var(--fill-color);\n",
              "      border-bottom-color: var(--fill-color);\n",
              "    }\n",
              "    90% {\n",
              "      border-color: transparent;\n",
              "      border-bottom-color: var(--fill-color);\n",
              "    }\n",
              "  }\n",
              "</style>\n",
              "\n",
              "  <script>\n",
              "    async function quickchart(key) {\n",
              "      const quickchartButtonEl =\n",
              "        document.querySelector('#' + key + ' button');\n",
              "      quickchartButtonEl.disabled = true;  // To prevent multiple clicks.\n",
              "      quickchartButtonEl.classList.add('colab-df-spinner');\n",
              "      try {\n",
              "        const charts = await google.colab.kernel.invokeFunction(\n",
              "            'suggestCharts', [key], {});\n",
              "      } catch (error) {\n",
              "        console.error('Error during call to suggestCharts:', error);\n",
              "      }\n",
              "      quickchartButtonEl.classList.remove('colab-df-spinner');\n",
              "      quickchartButtonEl.classList.add('colab-df-quickchart-complete');\n",
              "    }\n",
              "    (() => {\n",
              "      let quickchartButtonEl =\n",
              "        document.querySelector('#df-1d2d72e2-2c8e-4420-a8fd-b60453d49cf0 button');\n",
              "      quickchartButtonEl.style.display =\n",
              "        google.colab.kernel.accessAllowed ? 'block' : 'none';\n",
              "    })();\n",
              "  </script>\n",
              "</div>\n",
              "\n",
              "    </div>\n",
              "  </div>\n"
            ],
            "application/vnd.google.colaboratory.intrinsic+json": {
              "type": "dataframe",
              "variable_name": "sal"
            }
          },
          "metadata": {},
          "execution_count": 24
        }
      ]
    },
    {
      "cell_type": "markdown",
      "source": [
        "Ejercicio 4:\n",
        "¿Cual es el BasePay promedio?"
      ],
      "metadata": {
        "id": "z6S8xb2c0k8S"
      }
    },
    {
      "cell_type": "code",
      "source": [
        "sal[\"BasePay\"].mean()\n",
        "\n",
        "print(\"El promedio del BasePay es:\", sal[\"BasePay\"].mean())"
      ],
      "metadata": {
        "colab": {
          "base_uri": "https://localhost:8080/"
        },
        "id": "zEUFLSlv0o7n",
        "outputId": "764745ac-84c0-4da9-8b51-e679f783ffbb"
      },
      "execution_count": 25,
      "outputs": [
        {
          "output_type": "stream",
          "name": "stdout",
          "text": [
            "El promedio del BasePay es: 66325.4488404877\n"
          ]
        }
      ]
    },
    {
      "cell_type": "markdown",
      "source": [
        "Ejercicio 5: ¿Cuál es la cantidad más alta de OvertimePay en el conjunto de datos?"
      ],
      "metadata": {
        "id": "CqD2TBde2HEx"
      }
    },
    {
      "cell_type": "code",
      "source": [
        "max_overtime = sal[\"OvertimePay\"].max()\n",
        "print(\"La cantidad más alta de OvertimePay es:\", max_overtime)"
      ],
      "metadata": {
        "colab": {
          "base_uri": "https://localhost:8080/"
        },
        "id": "N1bgY-hf3Jcw",
        "outputId": "cd480a73-09a3-4167-963d-892d6588ea3a"
      },
      "execution_count": 26,
      "outputs": [
        {
          "output_type": "stream",
          "name": "stdout",
          "text": [
            "La cantidad más alta de OvertimePay es: 245131.88\n"
          ]
        }
      ]
    },
    {
      "cell_type": "markdown",
      "source": [
        "Ejercicio 6: ¿Cuál es el cargo de JOSEPH DRISCOLL? Nota: use mayúsculas, de lo contrario, puede obtener una respuesta que no coincida (también hay un Joseph Driscoll en minúsculas)"
      ],
      "metadata": {
        "id": "HZB0ihexAKCl"
      }
    },
    {
      "cell_type": "code",
      "source": [
        "filtro = sal[\"EmployeeName\"] == \"JOSEPH DRISCOLL\"\n",
        "sal[filtro][\"JobTitle\"]\n",
        "\n",
        "print(\"El cargo de JOSEPH DRISCOLL es:\", sal[filtro][\"JobTitle\"].values[0])"
      ],
      "metadata": {
        "colab": {
          "base_uri": "https://localhost:8080/"
        },
        "id": "6J7jlAxXAUAj",
        "outputId": "e5d751ce-3f92-4d26-e0ed-f13da5683cf8"
      },
      "execution_count": 27,
      "outputs": [
        {
          "output_type": "stream",
          "name": "stdout",
          "text": [
            "El cargo de JOSEPH DRISCOLL es: CAPTAIN, FIRE SUPPRESSION\n"
          ]
        }
      ]
    },
    {
      "cell_type": "markdown",
      "source": [
        "Ejercicio 7: ¿Cuál es el nombre de la persona mejor pagada (incluidos los beneficios)?"
      ],
      "metadata": {
        "id": "77y8ichhAweN"
      }
    },
    {
      "cell_type": "code",
      "source": [
        "indice_max = sal[\"TotalPayBenefits\"].idxmax()\n",
        "nombre_max = sal.loc[indice_max, \"EmployeeName\"]\n",
        "\n",
        "print(\"El nombre de la persona mejor pagada es:\", nombre_max)"
      ],
      "metadata": {
        "colab": {
          "base_uri": "https://localhost:8080/"
        },
        "id": "y9aR3SH_A0lx",
        "outputId": "a77f24ca-d9a6-458b-e33b-d2a0f5f659fa"
      },
      "execution_count": 28,
      "outputs": [
        {
          "output_type": "stream",
          "name": "stdout",
          "text": [
            "El nombre de la persona mejor pagada es: NATHANIEL FORD\n"
          ]
        }
      ]
    },
    {
      "cell_type": "markdown",
      "source": [
        "Ejercicio 8: ¿Cuántos títulos de trabajo únicos hay?"
      ],
      "metadata": {
        "id": "akfu6YOKGIly"
      }
    },
    {
      "cell_type": "code",
      "source": [
        "titulos_unicos = sal['JobTitle'].nunique()\n",
        "\n",
        "print(titulos_unicos)"
      ],
      "metadata": {
        "colab": {
          "base_uri": "https://localhost:8080/"
        },
        "id": "f-MWDce9GKhH",
        "outputId": "32e4cab2-664e-42a2-e92e-ee97a18b6aad"
      },
      "execution_count": 29,
      "outputs": [
        {
          "output_type": "stream",
          "name": "stdout",
          "text": [
            "2159\n"
          ]
        }
      ]
    },
    {
      "cell_type": "markdown",
      "source": [
        "# Bonus"
      ],
      "metadata": {
        "id": "_p6nWZkiGkLS"
      }
    },
    {
      "cell_type": "markdown",
      "source": [
        "Usando un API construya un programa que muestre la tasa de conversión entre COP y USD, puede usar: Exchange API\n",
        "\n",
        "Para interactuar con APIs pueden importar esta librería: requests."
      ],
      "metadata": {
        "id": "P6DtPhHsGn91"
      }
    },
    {
      "cell_type": "code",
      "source": [
        "import requests\n",
        "\n",
        "url = \"https://api.exchangerate-api.com/v4/latest/COP\"\n",
        "\n",
        "response = requests.get(url)\n",
        "\n",
        "if response.status_code == 200:\n",
        "    data = response.json()\n",
        "    tasa_conversion = data[\"rates\"][\"USD\"]\n",
        "    print(\"La tasa de conversión entre COP y USD es:\", tasa_conversion)"
      ],
      "metadata": {
        "colab": {
          "base_uri": "https://localhost:8080/"
        },
        "id": "WjHndTBUG1iA",
        "outputId": "b109e05a-3adb-4377-dae6-c54902c0e4d6"
      },
      "execution_count": 30,
      "outputs": [
        {
          "output_type": "stream",
          "name": "stdout",
          "text": [
            "La tasa de conversión entre COP y USD es: 0.000244\n"
          ]
        }
      ]
    }
  ]
}